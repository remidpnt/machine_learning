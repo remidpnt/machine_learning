{
 "cells": [
  {
   "cell_type": "code",
   "execution_count": 133,
   "metadata": {},
   "outputs": [],
   "source": [
    "import torch\n",
    "from torch import nn\n",
    "import numpy as np\n",
    "from torch.autograd import Variable\n",
    "from PIL import Image"
   ]
  },
  {
   "cell_type": "code",
   "execution_count": 39,
   "metadata": {},
   "outputs": [],
   "source": [
    "image = np.random.rand(16,8,8)\n",
    "image = torch.from_numpy(image).unsqueeze(0).float()\n",
    "image = Variable(image)"
   ]
  },
  {
   "cell_type": "code",
   "execution_count": 40,
   "metadata": {},
   "outputs": [],
   "source": [
    "class conv_BN_block(nn.Module):\n",
    "    def __init__(self, input_channels,output_channels,kernel_size, stride, specific_padding=None, batch_norm=True):\n",
    "        super().__init__()\n",
    "        if specific_padding is None: specific_padding = kernel_size//2//stride\n",
    "        self.conv = nn.Conv2d(input_channels,out_channels= output_channels, kernel_size=kernel_size, stride=stride, padding=specific_padding, dilation=1, bias=False)\n",
    "        self.bn   = nn.BatchNorm2d(output_channels) if batch_norm else None\n",
    "        self.relu = nn.LeakyReLU(0.2, inplace=True)\n",
    "    def forward(self,x):\n",
    "        x = self.relu(self.conv(x))\n",
    "        x = self.bn(x) if self.bn else x\n",
    "        return x"
   ]
  },
  {
   "cell_type": "code",
   "execution_count": 41,
   "metadata": {},
   "outputs": [],
   "source": [
    "class Discriminator(nn.Module):\n",
    "    def __init__(self, input_size, number_input_channel, number_extra_layer=0):\n",
    "        super().__init__()\n",
    "        self.number_extra_layer = number_extra_layer\n",
    "        self.first_layer  = conv_BN_block(number_input_channel,64,kernel_size=4,stride=2)\n",
    "        self.extra = nn.Sequential(*[conv_BN_block(64,64,kernel_size=1,stride=1) for t in range(0,number_extra_layer)])\n",
    "        medium_size = input_size/2\n",
    "        next_input_channel = 64\n",
    "        list_minimize = []\n",
    "        while medium_size > 4:\n",
    "            list_minimize.append(conv_BN_block(next_input_channel,next_input_channel*2,4,stride=2))\n",
    "            next_input_channel = next_input_channel*2\n",
    "            medium_size/=2\n",
    "        self.pyramid = nn.Sequential(*list_minimize)\n",
    "        self.final_layer = conv_BN_block(next_input_channel,1,4,1,specific_padding=0, batch_norm=False)\n",
    "        \n",
    "    def forward(self, x):\n",
    "        x = self.first_layer(x)\n",
    "        print(x.shape)\n",
    "        x = self.extra(x) if self.number_extra_layer!=0 else x\n",
    "        print(x.shape)\n",
    "        x = self.pyramid(x)\n",
    "        print(\"before\",x.shape)\n",
    "        x = self.final_layer(x)\n",
    "        print(x.shape)\n",
    "        return x"
   ]
  },
  {
   "cell_type": "code",
   "execution_count": 42,
   "metadata": {},
   "outputs": [],
   "source": [
    "class deconv_BN_block(nn.Module):\n",
    "    def __init__(self, number_input, number_output, kernel_size, stride, pad=0, bn=True):\n",
    "        super().__init__()\n",
    "        self.conv = nn.ConvTranspose2d(number_input, number_output, kernel_size, stride, padding=pad)\n",
    "        self.bn   = nn.BatchNorm2d(number_output)\n",
    "        self.relu = nn.ReLU(inplace=True)\n",
    "    def forward(self, x):\n",
    "        return self.bn(self.relu(self.conv(x)))"
   ]
  },
  {
   "cell_type": "code",
   "execution_count": 110,
   "metadata": {},
   "outputs": [],
   "source": [
    "class Generator(nn.Module):\n",
    "    def __init__(self, output_size,noise_channel, number_channel, ngf ,n_extra_layers=0 ):\n",
    "        super().__init__()\n",
    "        cngf, tisize = ngf//2,4\n",
    "        while tisize!=output_size: cngf*=2; tisize*=2\n",
    "        layers = [deconv_BN_block(noise_channel,cngf,4,1,0)]\n",
    "        \n",
    "        input_chanel_csize, cndf = 4, cngf\n",
    "        while input_chanel_csize < output_size//2:\n",
    "            layers.append(deconv_BN_block(cngf,cngf//2,4,2,1))\n",
    "            cngf //= 2; input_chanel_csize *= 2\n",
    "        \n",
    "        layers += [deconv_BN_block(cngf,cngf,3,1,1) for t in range(n_extra_layers)]\n",
    "        layers.append(nn.ConvTranspose2d(cngf,number_channel,4,2,1, bias=False))\n",
    "        self.features = nn.Sequential(*layers)\n",
    "        \n",
    "    def forward(self, input): return torch.tanh(self.features(input))"
   ]
  },
  {
   "cell_type": "code",
   "execution_count": 111,
   "metadata": {},
   "outputs": [],
   "source": [
    "class DCGAN_G(nn.Module):\n",
    "    def __init__(self, isize, nz, nc, ngf, n_extra_layers=0):\n",
    "        super().__init__()\n",
    "        assert isize % 16 == 0, \"isize has to be a multiple of 16\"\n",
    "        \n",
    "        cngf, tisize = ngf//2,4\n",
    "        while tisize!=isize: cngf*=2; tisize*=2\n",
    "        layers = [DeconvBlock(nz, cngf, 4, 1, 0)]\n",
    "        \n",
    "        csize, cndf = 4, cngf\n",
    "        while csize < isize//2:\n",
    "            layers.append(DeconvBlock(cngf, cngf//2, 4, 2, 1))\n",
    "            cngf //= 2; csize *= 2\n",
    "\n",
    "        layers += [DeconvBlock(cngf, cngf, 3, 1, 1) for t in range(n_extra_layers)]\n",
    "        layers.append(nn.ConvTranspose2d(cngf, nc, 4, 2, 1, bias=False))\n",
    "        self.features = nn.Sequential(*layers)\n",
    "\n",
    "    def forward(self, input): return torch.tanh(self.features(input))"
   ]
  },
  {
   "cell_type": "code",
   "execution_count": 112,
   "metadata": {},
   "outputs": [
    {
     "data": {
      "text/plain": [
       "torch.Size([1, 16, 14, 14])"
      ]
     },
     "execution_count": 112,
     "metadata": {},
     "output_type": "execute_result"
    }
   ],
   "source": [
    "image = np.random.rand(16,8,8)\n",
    "image = Variable(torch.from_numpy(image).unsqueeze(0).float())\n",
    "\n",
    "block = deconv_BN_block(16,16,4,2,2)\n",
    "a = block(image)\n",
    "a.shape"
   ]
  },
  {
   "cell_type": "code",
   "execution_count": 113,
   "metadata": {},
   "outputs": [],
   "source": [
    "nz = 100\n",
    "sz = 64\n",
    "\n",
    "netG = Generator(sz, nz, 3, 64, 1).cuda()\n",
    "netD = Discriminator(sz,3, 1).cuda()"
   ]
  },
  {
   "cell_type": "code",
   "execution_count": 120,
   "metadata": {},
   "outputs": [],
   "source": [
    "def create_noise(b): return Variable(torch.zeros(b, nz, 1, 1).normal_(0, 1)).cuda()"
   ]
  },
  {
   "cell_type": "code",
   "execution_count": 122,
   "metadata": {},
   "outputs": [],
   "source": [
    "noise = create_noise(4)\n",
    "preds = netG(noise)"
   ]
  },
  {
   "cell_type": "code",
   "execution_count": 124,
   "metadata": {},
   "outputs": [
    {
     "data": {
      "text/plain": [
       "torch.Size([4, 3, 64, 64])"
      ]
     },
     "execution_count": 124,
     "metadata": {},
     "output_type": "execute_result"
    }
   ],
   "source": [
    "preds.shape"
   ]
  },
  {
   "cell_type": "code",
   "execution_count": 126,
   "metadata": {},
   "outputs": [
    {
     "ename": "AttributeError",
     "evalue": "'Variable' object has no attribute 'numpy'",
     "output_type": "error",
     "traceback": [
      "\u001b[0;31m---------------------------------------------------------------------------\u001b[0m",
      "\u001b[0;31mAttributeError\u001b[0m                            Traceback (most recent call last)",
      "\u001b[0;32m<ipython-input-126-9740761b0a9e>\u001b[0m in \u001b[0;36m<module>\u001b[0;34m()\u001b[0m\n\u001b[0;32m----> 1\u001b[0;31m \u001b[0mpilTrans\u001b[0m \u001b[0;34m=\u001b[0m \u001b[0mpreds\u001b[0m\u001b[0;34m.\u001b[0m\u001b[0mnumpy\u001b[0m\u001b[0;34m(\u001b[0m\u001b[0;34m)\u001b[0m\u001b[0;34m\u001b[0m\u001b[0m\n\u001b[0m\u001b[1;32m      2\u001b[0m \u001b[0mplt\u001b[0m\u001b[0;34m.\u001b[0m\u001b[0mimshow\u001b[0m\u001b[0;34m(\u001b[0m\u001b[0mpilTrans\u001b[0m\u001b[0;34m[\u001b[0m\u001b[0;36m1\u001b[0m\u001b[0;34m,\u001b[0m\u001b[0;34m:\u001b[0m\u001b[0;34m]\u001b[0m\u001b[0;34m)\u001b[0m\u001b[0;34m\u001b[0m\u001b[0m\n",
      "\u001b[0;32m~/anaconda3/envs/fast/lib/python3.6/site-packages/torch/autograd/variable.py\u001b[0m in \u001b[0;36m__getattr__\u001b[0;34m(self, name)\u001b[0m\n\u001b[1;32m     65\u001b[0m         \u001b[0;32mif\u001b[0m \u001b[0mname\u001b[0m \u001b[0;32min\u001b[0m \u001b[0mself\u001b[0m\u001b[0;34m.\u001b[0m\u001b[0m_fallthrough_methods\u001b[0m\u001b[0;34m:\u001b[0m\u001b[0;34m\u001b[0m\u001b[0m\n\u001b[1;32m     66\u001b[0m             \u001b[0;32mreturn\u001b[0m \u001b[0mgetattr\u001b[0m\u001b[0;34m(\u001b[0m\u001b[0mself\u001b[0m\u001b[0;34m.\u001b[0m\u001b[0mdata\u001b[0m\u001b[0;34m,\u001b[0m \u001b[0mname\u001b[0m\u001b[0;34m)\u001b[0m\u001b[0;34m\u001b[0m\u001b[0m\n\u001b[0;32m---> 67\u001b[0;31m         \u001b[0;32mreturn\u001b[0m \u001b[0mobject\u001b[0m\u001b[0;34m.\u001b[0m\u001b[0m__getattribute__\u001b[0m\u001b[0;34m(\u001b[0m\u001b[0mself\u001b[0m\u001b[0;34m,\u001b[0m \u001b[0mname\u001b[0m\u001b[0;34m)\u001b[0m\u001b[0;34m\u001b[0m\u001b[0m\n\u001b[0m\u001b[1;32m     68\u001b[0m \u001b[0;34m\u001b[0m\u001b[0m\n\u001b[1;32m     69\u001b[0m     \u001b[0;32mdef\u001b[0m \u001b[0m__getitem__\u001b[0m\u001b[0;34m(\u001b[0m\u001b[0mself\u001b[0m\u001b[0;34m,\u001b[0m \u001b[0mkey\u001b[0m\u001b[0;34m)\u001b[0m\u001b[0;34m:\u001b[0m\u001b[0;34m\u001b[0m\u001b[0m\n",
      "\u001b[0;31mAttributeError\u001b[0m: 'Variable' object has no attribute 'numpy'"
     ]
    }
   ],
   "source": [
    "pilTrans = preds.numpy()\n",
    "plt.imshow(pilTrans[1,:])"
   ]
  },
  {
   "cell_type": "code",
   "execution_count": 140,
   "metadata": {},
   "outputs": [],
   "source": [
    "num = preds.cpu().data.numpy()\n",
    "from matplotlib.pyplot import imshow"
   ]
  },
  {
   "cell_type": "code",
   "execution_count": 146,
   "metadata": {},
   "outputs": [
    {
     "data": {
      "text/plain": [
       "(64, 64, 3)"
      ]
     },
     "execution_count": 146,
     "metadata": {},
     "output_type": "execute_result"
    }
   ],
   "source": [
    "num[0,:].shape\n",
    "im = num[0,:]\n",
    "im = np.swapaxes(im,0,1)\n",
    "im = np.swapaxes(im,1,2)\n",
    "im.shape"
   ]
  },
  {
   "cell_type": "code",
   "execution_count": 147,
   "metadata": {},
   "outputs": [
    {
     "name": "stderr",
     "output_type": "stream",
     "text": [
      "Clipping input data to the valid range for imshow with RGB data ([0..1] for floats or [0..255] for integers).\n"
     ]
    },
    {
     "data": {
      "text/plain": [
       "<matplotlib.image.AxesImage at 0x7fc5c4316e48>"
      ]
     },
     "execution_count": 147,
     "metadata": {},
     "output_type": "execute_result"
    },
    {
     "data": {
      "image/png": "[encoded data removed]",
      "text/plain": [
       "<Figure size 432x288 with 1 Axes>"
      ]
     },
     "metadata": {},
     "output_type": "display_data"
    }
   ],
   "source": [
    "imshow(im)"
   ]
  },
  {
   "cell_type": "code",
   "execution_count": 135,
   "metadata": {},
   "outputs": [],
   "source": [
    "num.shape\n",
    "img = Image.fromarray(num[0,:], 'RGB')\n",
    "#img.save('my.png')\n",
    "img.show()"
   ]
  },
  {
   "cell_type": "code",
   "execution_count": null,
   "metadata": {},
   "outputs": [],
   "source": [
    "pred_ims = md.trn_ds.denorm(preds)\n",
    "\n",
    "fig, axes = plt.subplots(2, 2, figsize=(6, 6))\n",
    "for i,ax in enumerate(axes.flat): ax.imshow(pred_ims[i])"
   ]
  }
 ],
 "metadata": {
  "kernelspec": {
   "display_name": "Python 3",
   "language": "python",
   "name": "python3"
  },
  "language_info": {
   "codemirror_mode": {
    "name": "ipython",
    "version": 3
   },
   "file_extension": ".py",
   "mimetype": "text/x-python",
   "name": "python",
   "nbconvert_exporter": "python",
   "pygments_lexer": "ipython3",
   "version": "3.6.5"
  }
 },
 "nbformat": 4,
 "nbformat_minor": 2
}
